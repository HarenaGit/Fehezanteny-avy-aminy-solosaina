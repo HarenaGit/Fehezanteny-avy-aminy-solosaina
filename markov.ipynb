{
  "nbformat": 4,
  "nbformat_minor": 0,
  "metadata": {
    "colab": {
      "name": "Untitled3.ipynb",
      "provenance": [],
      "authorship_tag": "ABX9TyNHKKCGd6pjbV/4GJPVxyZo",
      "include_colab_link": true
    },
    "kernelspec": {
      "name": "python3",
      "display_name": "Python 3"
    },
    "language_info": {
      "name": "python"
    }
  },
  "cells": [
    {
      "cell_type": "markdown",
      "metadata": {
        "id": "view-in-github",
        "colab_type": "text"
      },
      "source": [
        "<a href=\"https://colab.research.google.com/github/HarenaGit/Fehezanteny-avy-aminy-solosaina/blob/main/markov.ipynb\" target=\"_parent\"><img src=\"https://colab.research.google.com/assets/colab-badge.svg\" alt=\"Open In Colab\"/></a>"
      ]
    },
    {
      "cell_type": "code",
      "execution_count": null,
      "metadata": {
        "colab": {
          "base_uri": "https://localhost:8080/"
        },
        "id": "rSmz6WukzzWd",
        "outputId": "70dab06a-4f90-4c6c-e296-ffd4185f6fb2"
      },
      "outputs": [
        {
          "output_type": "stream",
          "name": "stdout",
          "text": [
            "Requirement already satisfied: markovify in /usr/local/lib/python3.7/dist-packages (0.9.3)\n",
            "Requirement already satisfied: unidecode in /usr/local/lib/python3.7/dist-packages (from markovify) (1.3.2)\n"
          ]
        }
      ],
      "source": [
        "!pip install markovify"
      ]
    },
    {
      "cell_type": "code",
      "source": [
        "\n",
        "import markovify\n",
        "\n",
        "# Get raw text as string.\n",
        "with open(\"tnk.txt\") as f:\n",
        "    text = f.read()\n",
        "\n",
        "# Build the model.\n",
        "text_model = markovify.NewlineText(text, state_size=1)"
      ],
      "metadata": {
        "id": "ddhjg_A11Sto"
      },
      "execution_count": null,
      "outputs": []
    },
    {
      "cell_type": "code",
      "source": [
        "\n",
        "# Print five randomly-generated sentences\n",
        "for i in range(4):\n",
        "    print(text_model.make_sentence())"
      ],
      "metadata": {
        "colab": {
          "base_uri": "https://localhost:8080/"
        },
        "id": "jxYjq-512QzO",
        "outputId": "22b966de-d81b-4647-beac-e4a46488b7ee"
      },
      "execution_count": 31,
      "outputs": [
        {
          "output_type": "stream",
          "name": "stdout",
          "text": [
            "Mba hamonoana ilay olona miteny!\n",
            "fa tsy mino ny fitaovana tsy mila ho avy tsy izay varatra hipoaka.\n",
            "Isavovonan'ny fako izay vetsom-pony niery.\n",
            "Ny ondry koa ny rehetra Irina moa, tsy misy ny fanahiko\n"
          ]
        }
      ]
    }
  ]
}